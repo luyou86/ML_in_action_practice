{
 "cells": [
  {
   "cell_type": "code",
   "execution_count": 3,
   "metadata": {},
   "outputs": [
    {
     "name": "stdout",
     "output_type": "stream",
     "text": [
      "[[-0.70710678 -0.70710678]\n",
      " [ 0.70710678 -0.70710678]]\n"
     ]
    }
   ],
   "source": [
    "from numpy import *\n",
    "\n",
    "U, feature_mat, VT = linalg.svd([[1,1],[7,7]])\n",
    "print VT\n"
   ]
  },
  {
   "cell_type": "code",
   "execution_count": 18,
   "metadata": {},
   "outputs": [
    {
     "name": "stdout",
     "output_type": "stream",
     "text": [
      "[[  1.00000000e+00   1.00000000e+00   1.00000000e+00   7.75989921e-16\n",
      "    7.71587483e-16]\n",
      " [  2.00000000e+00   2.00000000e+00   2.00000000e+00   3.00514919e-16\n",
      "    2.77832253e-16]\n",
      " [  1.00000000e+00   1.00000000e+00   1.00000000e+00   2.18975112e-16\n",
      "    2.07633779e-16]\n",
      " [  5.00000000e+00   5.00000000e+00   5.00000000e+00   3.00675663e-17\n",
      "   -1.28697294e-17]\n",
      " [  1.00000000e+00   1.00000000e+00  -5.48397422e-16   2.00000000e+00\n",
      "    2.00000000e+00]\n",
      " [  3.21319929e-16   4.43562065e-16  -3.48967188e-16   3.00000000e+00\n",
      "    3.00000000e+00]\n",
      " [  9.71445147e-17   1.45716772e-16  -1.52655666e-16   1.00000000e+00\n",
      "    1.00000000e+00]]\n"
     ]
    }
   ],
   "source": [
    "test1 = [[1,1,1,0,0],\n",
    "        [2,2,2,0,0],\n",
    "        [1,1,1,0,0],\n",
    "        [5,5,5,0,0],\n",
    "        [1,1,0,2,2],\n",
    "        [0,0,0,3,3],\n",
    "        [0,0,0,1,1]]\n",
    "U1,feature_mat1, VT1 = linalg.svd(test1)\n",
    "#print VT1[:3,:]\n",
    "feature_mat1_del = mat([[feature_mat1[0],0,0],[0,feature_mat1[1],0],[0,0, feature_mat1[2]]])\n",
    "print U1[:,:3] *feature_mat1_del* VT1[:3,:]"
   ]
  },
  {
   "cell_type": "code",
   "execution_count": 28,
   "metadata": {},
   "outputs": [
    {
     "name": "stdout",
     "output_type": "stream",
     "text": [
      " pear_similary:  0.988982626009\n",
      "eucli_similary:  2.0\n",
      "pear_similary:  0.992125492126\n"
     ]
    }
   ],
   "source": [
    "from numpy import linalg as la\n",
    "\n",
    "def eucli_similary(vec1, vec2):\n",
    "    return 1.0 / 1.0 + la.norm(vec1 - vec2)\n",
    "\n",
    "def pear_similary(vec1, vec2):\n",
    "    return 0.5 + 0.5 * corrcoef(vec1, vec2, rowvar=0)[0][1]\n",
    "\n",
    "def cos_similary(vec1, vec2):\n",
    "    A_B = float(vec1.T * vec2)\n",
    "    denom = la.norm(vec1) * la.norm(vec2)\n",
    "    return 0.5 + 0.5 * (A_B / denom)\n",
    "test1_mat = mat(test1)\n",
    "print 'pear_similary: ', pear_similary(test1_mat[:,1], test1_mat[:,2])\n",
    "print 'eucli_similary: ',eucli_similary(test1_mat[:,1], test1_mat[:,2])\n",
    "print 'pear_similary: ', cos_similary(test1_mat[:,1], test1_mat[:,2])\n"
   ]
  },
  {
   "cell_type": "code",
   "execution_count": 64,
   "metadata": {},
   "outputs": [],
   "source": [
    "def compute_est(data_mat, user, sim_method, item):\n",
    "    row_num = shape(data_mat)[0]\n",
    "    total_sim = 0.0\n",
    "    rating_similary = 0.0\n",
    "    for m in range(row_num):\n",
    "        user_rating = data_mat[user,m]\n",
    "        if user_rating == 0 or m == item:\n",
    "            continue\n",
    "        together_eval_users = nonzero(logical_and(data_mat[:, m].A > 0, data_mat[:, item].A > 0))[0]\n",
    "        if len(together_eval_users) == 0:\n",
    "            similary = 0\n",
    "        else:\n",
    "            similary = sim_method(data_mat[together_eval_users,m], data_mat[together_eval_users,item])\n",
    "        total_sim += similary\n",
    "        rating_similary += similary * user_rating\n",
    "        if total_sim == 0:\n",
    "            return 0\n",
    "        else:\n",
    "            return rating_similary / float(total_sim)\n",
    "        \n",
    "\n",
    "def recommend(data_mat, user, sim_method=cos_similary, est_method=compute_est, N=3):\n",
    "    not_evaluate_items = nonzero(data_mat[user,:].A == 0)[1] # row\n",
    "    if len(not_evaluate_items) == 0:\n",
    "        return 'you rate everything!'\n",
    "    items_scores = [] # alse use {}\n",
    "    for j in range(len(not_evaluate_items)):\n",
    "        estim_score = est_method(data_mat, user, sim_method, not_evaluate_items[j])\n",
    "        items_scores.append((not_evaluate_items[j], estim_score))\n",
    "    return sorted(items_scores, key=lambda item: item[1], reverse=True)[:N]\n",
    "\n",
    "\n",
    "   "
   ]
  },
  {
   "cell_type": "code",
   "execution_count": 65,
   "metadata": {},
   "outputs": [
    {
     "name": "stdout",
     "output_type": "stream",
     "text": [
      "[(4, 1.0)]\n"
     ]
    }
   ],
   "source": [
    "test2 = [[4,4,0,2,2],\n",
    "        [4,0,0,3,3],\n",
    "        [4,0,0,1,1],\n",
    "        [1,1,1,2,0],\n",
    "        [1,1,1,0,0],\n",
    "        [5,5,5,0,0]]\n",
    "test2_mat = mat(test2)\n",
    "print recommend(test2_mat, 3)\n"
   ]
  },
  {
   "cell_type": "code",
   "execution_count": 80,
   "metadata": {
    "collapsed": true
   },
   "outputs": [],
   "source": [
    "def svd_estim(data_mat, user,sim_method, item):\n",
    "    row_num = shape(data_mat)[0]\n",
    "    total_sim = 0.0\n",
    "    rating_similary = 0.0\n",
    "    U, featute_mat, VT = la.svd(data_mat)\n",
    "    feature_mat_4 = mat(eye(4) * feature_mat[:4])\n",
    "    svd_mat = data_mat.T * U[:,:4] * feature_mat_4.I\n",
    "    for m in range(row_num):\n",
    "        user_rating = data_mat[user,m]\n",
    "        if user_rating == 0 or m == item:\n",
    "            continue\n",
    "\n",
    "        similary = sim_method(svd_mat[m,:].T, svd_mat[item,:].T)\n",
    "        total_sim += similary\n",
    "        rating_similary += similary * user_rating\n",
    "        if total_sim == 0:\n",
    "            return 0\n",
    "        else:\n",
    "            return rating_similary / float(total_sim)"
   ]
  },
  {
   "cell_type": "code",
   "execution_count": 82,
   "metadata": {},
   "outputs": [
    {
     "name": "stdout",
     "output_type": "stream",
     "text": [
      "[(1, 4.0), (2, 4.0)]\n"
     ]
    }
   ],
   "source": [
    "print recommend(test2_mat,2w, est_method=svd_estim)"
   ]
  },
  {
   "cell_type": "code",
   "execution_count": 75,
   "metadata": {},
   "outputs": [
    {
     "name": "stdout",
     "output_type": "stream",
     "text": [
      "[[ 11.47878945   0.           0.           0.        ]\n",
      " [  0.           5.82127116   0.           0.        ]\n",
      " [  0.           0.           2.58384698   0.        ]\n",
      " [  0.           0.           0.           1.92648388]]\n"
     ]
    }
   ],
   "source": [
    "U, feature_mat, VT = la.svd(test2_mat)\n",
    "print mat(eye(4) * feature_mat[:4])"
   ]
  },
  {
   "cell_type": "code",
   "execution_count": 88,
   "metadata": {},
   "outputs": [
    {
     "name": "stdout",
     "output_type": "stream",
     "text": [
      "---------------------------------------------------------\n",
      "0 0 0 0 0 0 0 0 0 0 0 0 0 0 1 1 0 0 0 0 0 0 0 0 0 0 0 0 0 0 0 0  \n",
      "0 0 0 0 0 0 0 0 0 0 0 0 1 1 1 1 1 1 0 0 0 0 0 0 0 0 0 0 0 0 0 0  \n",
      "0 0 0 0 0 0 0 0 0 0 0 1 1 1 1 1 1 1 1 0 0 0 0 0 0 0 0 0 0 0 0 0  \n",
      "0 0 0 0 0 0 0 0 0 0 1 1 1 1 1 1 1 1 1 1 0 0 0 0 0 0 0 0 0 0 0 0  \n",
      "0 0 0 0 0 0 0 0 1 1 1 1 1 1 1 1 1 1 1 1 1 0 0 0 0 0 0 0 0 0 0 0  \n",
      "0 0 0 0 0 0 0 1 1 1 1 1 1 1 1 1 1 1 1 1 1 1 0 0 0 0 0 0 0 0 0 0  \n",
      "0 0 0 0 0 0 0 0 1 1 1 1 1 1 1 1 1 1 1 1 1 1 1 0 0 0 0 0 0 0 0 0  \n",
      "0 0 0 0 0 0 0 0 1 1 1 1 1 1 1 0 0 0 0 1 1 1 1 1 0 0 0 0 0 0 0 0  \n",
      "0 0 0 0 0 0 0 1 1 1 1 1 1 1 0 0 0 0 0 1 1 1 1 1 0 0 0 0 0 0 0 0  \n",
      "0 0 0 0 0 0 1 1 1 1 1 1 0 0 0 0 0 0 0 0 1 1 1 1 0 0 0 0 0 0 0 0  \n",
      "0 0 0 0 0 0 1 1 1 1 1 1 0 0 0 0 0 0 0 0 1 1 1 1 1 0 0 0 0 0 0 0  \n",
      "0 0 0 0 0 0 1 1 1 1 1 1 0 0 0 0 0 0 0 0 0 1 1 1 1 0 0 0 0 0 0 0  \n",
      "0 0 0 0 0 0 1 1 1 1 1 1 0 0 0 0 0 0 0 0 0 1 1 1 1 0 0 0 0 0 0 0  \n",
      "0 0 0 0 0 0 0 1 1 1 1 1 1 0 0 0 0 0 0 0 0 0 1 1 1 1 0 0 0 0 0 0  \n",
      "0 0 0 0 0 0 1 1 1 1 1 1 1 0 0 0 0 0 0 0 0 0 1 1 1 1 0 0 0 0 0 0  \n",
      "0 0 0 0 0 0 1 1 1 1 1 1 0 0 0 0 0 0 0 0 0 0 1 1 1 1 0 0 0 0 0 0  \n",
      "0 0 0 0 0 0 0 1 1 1 1 1 0 0 0 0 0 0 0 0 0 0 1 1 1 1 0 0 0 0 0 0  \n",
      "0 0 0 0 0 0 1 1 1 1 1 1 0 0 0 0 0 0 0 0 0 0 1 1 1 1 0 0 0 0 0 0  \n",
      "0 0 0 0 0 0 0 1 1 1 1 1 0 0 0 0 0 0 0 0 0 0 1 1 1 1 0 0 0 0 0 0  \n",
      "0 0 0 0 0 0 0 1 1 1 1 1 0 0 0 0 0 0 0 0 0 1 1 1 1 1 0 0 0 0 0 0  \n",
      "0 0 0 0 0 0 0 0 1 1 1 1 1 0 0 0 0 0 0 0 0 0 1 1 1 1 1 0 0 0 0 0  \n",
      "0 0 0 0 0 0 0 0 1 1 1 1 1 0 0 0 0 0 0 0 0 0 1 1 1 1 1 0 0 0 0 0  \n",
      "0 0 0 0 0 0 0 0 1 1 1 1 1 0 0 0 0 0 0 0 0 0 1 1 1 1 1 0 0 0 0 0  \n",
      "0 0 0 0 0 0 0 0 1 1 1 1 1 0 0 0 0 0 0 0 0 1 1 1 1 1 0 0 0 0 0 0  \n",
      "0 0 0 0 0 0 0 0 1 1 1 1 1 0 0 0 0 0 0 0 1 1 1 1 1 1 0 0 0 0 0 0  \n",
      "0 0 0 0 0 0 0 0 1 1 1 1 1 1 0 0 0 0 0 1 1 1 1 1 1 0 0 0 0 0 0 0  \n",
      "0 0 0 0 0 0 0 0 0 1 1 1 1 1 1 1 1 1 1 1 1 1 1 1 1 0 0 0 0 0 0 0  \n",
      "0 0 0 0 0 0 0 0 0 0 1 1 1 1 1 1 1 1 1 1 1 1 1 1 1 0 0 0 0 0 0 0  \n",
      "0 0 0 0 0 0 0 0 0 0 1 1 1 1 1 1 1 1 1 1 1 1 1 1 1 0 0 0 0 0 0 0  \n",
      "0 0 0 0 0 0 0 0 0 0 0 1 1 1 1 1 1 1 1 1 1 1 1 0 0 0 0 0 0 0 0 0  \n",
      "0 0 0 0 0 0 0 0 0 0 0 0 1 1 1 1 1 1 1 1 1 1 0 0 0 0 0 0 0 0 0 0  \n",
      "0 0 0 0 0 0 0 0 0 0 0 0 0 0 1 1 1 1 1 1 0 0 0 0 0 0 0 0 0 0 0 0  \n",
      "***********************************************************\n",
      "0 0 0 0 0 0 0 0 0 0 0 0 0 0 0 0 0 0 0 0 0 0 0 0 0 0 0 0 0 0 0 0  \n",
      "0 0 0 0 0 0 0 0 0 0 0 0 0 0 0 0 0 0 0 0 0 0 0 0 0 0 0 0 0 0 0 0  \n",
      "0 0 0 0 0 0 0 0 0 0 0 0 1 0 1 1 1 1 1 0 0 0 0 0 0 0 0 0 0 0 0 0  \n",
      "0 0 0 0 0 0 0 0 0 0 0 0 1 1 1 1 1 1 1 0 0 0 0 0 0 0 0 0 0 0 0 0  \n",
      "0 0 0 0 0 0 0 0 0 0 0 1 1 1 1 1 1 1 1 1 0 0 0 0 0 0 0 0 0 0 0 0  \n",
      "0 0 0 0 0 0 0 0 0 0 1 1 1 1 1 1 1 1 1 1 1 1 0 0 0 0 0 0 0 0 0 0  \n",
      "0 0 0 0 0 0 0 0 0 0 1 1 1 1 1 1 1 1 1 1 1 1 0 0 0 0 0 0 0 0 0 0  \n",
      "0 0 0 0 0 0 0 0 0 1 1 1 0 0 0 0 0 0 0 0 1 1 1 0 0 0 0 0 0 0 0 0  \n",
      "0 0 0 0 0 0 0 0 1 1 1 1 0 0 0 0 0 0 0 0 1 1 1 1 0 0 0 0 0 0 0 0  \n",
      "0 0 0 0 0 0 0 1 1 1 1 1 0 0 0 0 0 0 0 0 1 1 1 1 0 0 0 0 0 0 0 0  \n",
      "0 0 0 0 0 0 0 1 1 1 1 1 0 0 0 0 0 0 0 0 0 1 1 1 0 0 0 0 0 0 0 0  \n",
      "0 0 0 0 0 0 0 1 1 1 1 1 0 0 0 0 0 0 0 0 0 1 1 1 0 0 0 0 0 0 0 0  \n",
      "0 0 0 0 0 0 0 1 1 1 1 1 0 0 0 0 0 0 0 0 0 1 1 1 0 0 0 0 0 0 0 0  \n",
      "0 0 0 0 0 0 0 0 1 1 1 1 0 0 0 0 0 0 0 0 0 0 1 1 1 1 0 0 0 0 0 0  \n",
      "0 0 0 0 0 0 0 0 1 1 1 1 0 0 0 0 0 0 0 0 0 0 1 1 1 1 0 0 0 0 0 0  \n",
      "0 0 0 0 0 0 0 0 1 1 1 1 0 0 0 0 0 0 0 0 0 0 1 1 1 1 0 0 0 0 0 0  \n",
      "0 0 0 0 0 0 0 0 1 1 1 1 0 0 0 0 0 0 0 0 0 0 1 1 1 1 0 0 0 0 0 0  \n",
      "0 0 0 0 0 0 0 0 1 1 1 1 0 0 0 0 0 0 0 0 0 0 1 1 1 1 0 0 0 0 0 0  \n",
      "0 0 0 0 0 0 0 0 1 1 1 1 0 0 0 0 0 0 0 0 0 0 1 1 1 1 0 0 0 0 0 0  \n",
      "0 0 0 0 0 0 0 0 1 1 1 1 0 0 0 0 0 0 0 0 0 0 1 1 1 0 0 0 0 0 0 0  \n",
      "0 0 0 0 0 0 0 0 1 1 1 1 0 0 0 0 0 0 0 0 0 0 1 1 1 1 0 0 0 0 0 0  \n",
      "0 0 0 0 0 0 0 0 1 1 1 1 0 0 0 0 0 0 0 0 0 0 1 1 1 1 0 0 0 0 0 0  \n",
      "0 0 0 0 0 0 0 0 1 1 1 1 0 0 0 0 0 0 0 0 0 0 1 1 1 1 0 0 0 0 0 0  \n",
      "0 0 0 0 0 0 0 0 1 1 1 1 0 0 0 0 0 0 0 0 0 0 1 1 1 1 0 0 0 0 0 0  \n",
      "0 0 0 0 0 0 0 0 1 1 1 1 0 0 0 0 0 0 0 0 0 0 1 1 1 0 0 0 0 0 0 0  \n",
      "0 0 0 0 0 0 0 0 1 1 1 1 0 0 0 0 0 0 0 0 1 1 1 1 0 0 0 0 0 0 0 0  \n",
      "0 0 0 0 0 0 0 0 0 0 1 1 1 1 1 1 1 1 1 1 1 1 1 0 0 0 0 0 0 0 0 0  \n",
      "0 0 0 0 0 0 0 0 0 0 1 1 1 1 1 1 1 1 1 1 1 1 0 0 0 0 0 0 0 0 0 0  \n",
      "0 0 0 0 0 0 0 0 0 0 1 1 1 1 1 1 1 1 1 1 1 1 0 0 0 0 0 0 0 0 0 0  \n",
      "0 0 0 0 0 0 0 0 0 0 0 0 1 1 1 1 1 1 1 1 1 1 0 0 0 0 0 0 0 0 0 0  \n",
      "0 0 0 0 0 0 0 0 0 0 0 0 1 1 1 1 1 1 1 1 1 0 0 0 0 0 0 0 0 0 0 0  \n",
      "0 0 0 0 0 0 0 0 0 0 0 0 0 0 0 0 0 0 0 0 0 0 0 0 0 0 0 0 0 0 0 0  \n"
     ]
    }
   ],
   "source": [
    "def print_mat(data_mat, thresh=0.8):\n",
    "    for i in range(32):\n",
    "        for j in range(32):\n",
    "            if float(data_mat[i,j]) > 0.8:\n",
    "                print 1 ,\n",
    "            else: \n",
    "                print 0,\n",
    "        print ' '\n",
    "\n",
    "def img_compress(num_of_feat_v=3, thresh=0.8):\n",
    "    origin_data = []\n",
    "    f = open('0_5.txt')\n",
    "    for line in f.readlines():\n",
    "        temp_str = line.strip()\n",
    "        temp_l = [int(i) for i in temp_str]\n",
    "        origin_data.append(temp_l)\n",
    "    origin_data_mat = mat(origin_data)\n",
    "    print '---------------------------------------------------------'\n",
    "    print_mat(origin_data_mat)\n",
    "    \n",
    "    U, feature_v, VT = la.svd(origin_data_mat)\n",
    "    sig_com = mat(zeros((num_of_feat_v, num_of_feat_v)))\n",
    "    for m in range(num_of_feat_v):\n",
    "        sig_com[m,m] = feature_v[m]\n",
    "    svd_mat = U[:,:num_of_feat_v] * sig_com * VT[:num_of_feat_v,:]\n",
    "    print '***********************************************************'\n",
    "    print_mat(svd_mat)\n",
    "    \n",
    "img_compress()"
   ]
  },
  {
   "cell_type": "code",
   "execution_count": null,
   "metadata": {
    "collapsed": true
   },
   "outputs": [],
   "source": []
  }
 ],
 "metadata": {
  "kernelspec": {
   "display_name": "Python 2",
   "language": "python",
   "name": "python2"
  },
  "language_info": {
   "codemirror_mode": {
    "name": "ipython",
    "version": 2
   },
   "file_extension": ".py",
   "mimetype": "text/x-python",
   "name": "python",
   "nbconvert_exporter": "python",
   "pygments_lexer": "ipython2",
   "version": "2.7.14"
  }
 },
 "nbformat": 4,
 "nbformat_minor": 2
}
