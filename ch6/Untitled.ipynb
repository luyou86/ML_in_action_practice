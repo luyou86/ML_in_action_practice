{
 "cells": [
  {
   "cell_type": "code",
   "execution_count": 4,
   "metadata": {},
   "outputs": [
    {
     "name": "stdout",
     "output_type": "stream",
     "text": [
      "100\n"
     ]
    }
   ],
   "source": [
    "def read_file():\n",
    "    f = open('testSet.txt')\n",
    "    data_set = []\n",
    "    label = []\n",
    "    for line in f.readlines():\n",
    "        string = line.strip().split('\\t')\n",
    "        data_set.append([float(string[0]),float(string[1])])\n",
    "        label.append(float(string[2]))\n",
    "    return data_set, label\n",
    "\n",
    "data_set, label = read_file()\n",
    "print len(label)"
   ]
  },
  {
   "cell_type": "code",
   "execution_count": 35,
   "metadata": {},
   "outputs": [
    {
     "name": "stdout",
     "output_type": "stream",
     "text": [
      "5\n"
     ]
    }
   ],
   "source": [
    "import random\n",
    "def random_select(index, row_num):\n",
    "    j = index\n",
    "    // need to caution the scope of variance\n",
    "    while(j == index):\n",
    "        j = int(random.uniform(0,row_num))\n",
    "    return j\n",
    "         \n",
    "    \n",
    "#j = random_select(8, 20)\n",
    "#print j"
   ]
  },
  {
   "cell_type": "code",
   "execution_count": 38,
   "metadata": {},
   "outputs": [
    {
     "name": "stdout",
     "output_type": "stream",
     "text": [
      "0\n"
     ]
    }
   ],
   "source": [
    "def adust_alpha(a_j, low, high):\n",
    "    if a_j > high:\n",
    "        a_j = high\n",
    "    if a_j < low:\n",
    "        a_j = low\n",
    "    return a_j\n",
    "print adust_alpha(-1,0, 100)"
   ]
  },
  {
   "cell_type": "code",
   "execution_count": 98,
   "metadata": {
    "scrolled": true
   },
   "outputs": [
    {
     "name": "stdout",
     "output_type": "stream",
     "text": [
      "iteratin : %d 1\n",
      "iteratin : %d 2\n",
      "iteratin : %d 4\n",
      "iteratin : %d 6\n",
      "iteratin : %d 10\n",
      "iteratin : %d 26\n",
      "iteratin : %d 27\n",
      "iteratin : %d 29\n",
      "iteratin : %d 31\n",
      "iteratin : %d 39\n",
      "iteratin : %d 42\n",
      "iteratin : %d 44\n",
      "iteratin : %d 47\n",
      "iteratin : %d 49\n",
      "iteratin : %d 50\n",
      "iteratin : %d 52\n",
      "iteratin : %d 55\n",
      "iteratin : %d 97\n",
      "(100L, 1L)\n"
     ]
    }
   ],
   "source": [
    "import numpy as np\n",
    "def smo1(data_set,label,constant, tolence, iteration_num):\n",
    "    #need to use np.mat(), rather than np.array()\n",
    "    data_mat = np.mat(data_set)\n",
    "    label_vec = np.mat(label).T\n",
    "    row_num, col_num = data_mat.shape\n",
    "    alpha = np.mat(np.zeros((row_num, 1)))\n",
    "    iteration_count = 0\n",
    "    b = 0\n",
    "    while(iteration_count < iteration_num):\n",
    "        alpha_flag = 0\n",
    "        for i in range(row_num):\n",
    "            predict_i = float(np.multiply(alpha, label_vec).T *(data_mat * data_mat[i,:].T)) + b\n",
    "            error_i = predict_i - label_vec[i]\n",
    "            if ((label_vec[i]* error_i < -tolence) and (alpha[i] < constant)) or ((label_vec[i]*error_i > tolence) and (alpha[i] > 0)):\n",
    "                j = random_select(i, row_num)\n",
    "                predict_j = float(np.multiply(alpha, label_vec).T * \\\n",
    "                                     (data_mat * data_mat[j,:].T)) + b\n",
    "                error_j = predict_j - label_vec[j]\n",
    "                alpha_i_copy = alpha[i].copy()\n",
    "                alpha_j_copy = alpha[j].copy()\n",
    "                \n",
    "                #set low and hign bound\n",
    "                if(label_vec[i] != label_vec[j]):\n",
    "                    low_bound = max(0, alpha[j] - alpha[i])\n",
    "                    high_bound = min(constant, constant + alpha[j] - alpha[i])\n",
    "                else:\n",
    "                    low_bound = max(0, alpha[j] + alpha[i] - constant)\n",
    "                    high_bound = min(constant, alpha[i] + alpha[j])\n",
    "                if low_bound == high_bound:\n",
    "                    continue\n",
    "                #set eta\n",
    "                eta = 2.0 * data_mat[i,:]*data_mat[j,:].T - data_mat[i,:] * data_mat[i,:].T - data_mat[j,:]*data_mat[j,:].T\n",
    "                if eta >= 0:\n",
    "                    continue\n",
    "                alpha[i] -= label_vec[j] * (error_i - error_j) / eta\n",
    "                alpha[j] = adust_alpha(alpha[j], low_bound, high_bound)\n",
    "                \n",
    "                if (abs(alpha[i] - alpha[j]) < 0.00001):\n",
    "                    continue\n",
    "                alpha[i] += label_vec[j] * label_vec[i] * (alpha_j_copy - alpha[j])\n",
    "                b1 = b- error_i - label_vec[i] * (alpha[i] - alpha_i_copy) * data_mat[i,:]* data_mat[i,:].T - \\\n",
    "                label_vec[j] * (alpha[j] - alpha_j_copy) * data_mat[i,:]*data_mat[j,:].T\n",
    "                b2 = b - error_j - label_vec[i] * (alpha[i] - alpha_i_copy) *data_mat[i,:]*data_mat[j,:].T - \\\n",
    "                    label_vec[j]*(alpha[j] - alpha_j_copy) * data_mat[j,:] * data_mat[j,:].T\n",
    "                \n",
    "                if( alpha[i] > 0) and ( alpha[i] < constant):\n",
    "                    b = b1\n",
    "                elif (alpha[j] > 0) and ( alpha[j] < constant):\n",
    "                    b = b2\n",
    "                else:\n",
    "                    b = (b1 + b2) / 2\n",
    "                alpha_flag += 1\n",
    "                print 'iteratin : %d', i\n",
    "        if alpha_flag == 0:\n",
    "            iteration_count += 1\n",
    "        else:\n",
    "            iteration_num = 0\n",
    "    return alpha, b\n",
    "\n",
    "alpha, b = smo1(data_set, label,0.6, 0.001, 50)\n",
    "print alpha\n",
    "            "
   ]
  },
  {
   "cell_type": "code",
   "execution_count": 94,
   "metadata": {},
   "outputs": [
    {
     "name": "stdout",
     "output_type": "stream",
     "text": [
      "(2L, 1L)\n"
     ]
    }
   ],
   "source": [
    "import numpy as np\n",
    "label_voc = np.mat(label).T\n",
    "alpha = np.zeros((100,1))\n",
    "x = np.multiply(alpha, label_voc).T\n",
    "data_mat = np.mat(data_set)\n",
    "y = data_mat * (data_mat[2,:].T)\n",
    "print data_mat[2,:].T.shape\n"
   ]
  },
  {
   "cell_type": "code",
   "execution_count": null,
   "metadata": {
    "collapsed": true
   },
   "outputs": [],
   "source": []
  }
 ],
 "metadata": {
  "kernelspec": {
   "display_name": "Python 2",
   "language": "python",
   "name": "python2"
  },
  "language_info": {
   "codemirror_mode": {
    "name": "ipython",
    "version": 2
   },
   "file_extension": ".py",
   "mimetype": "text/x-python",
   "name": "python",
   "nbconvert_exporter": "python",
   "pygments_lexer": "ipython2",
   "version": "2.7.14"
  }
 },
 "nbformat": 4,
 "nbformat_minor": 2
}
