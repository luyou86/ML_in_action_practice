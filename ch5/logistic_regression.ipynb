{
 "cells": [
  {
   "cell_type": "code",
   "execution_count": 133,
   "metadata": {},
   "outputs": [
    {
     "name": "stdout",
     "output_type": "stream",
     "text": [
      "[0, 1, 0, 0, 0, 1, 0]\n"
     ]
    }
   ],
   "source": [
    "def read_file():\n",
    "    data_set = []\n",
    "    label = []\n",
    "    f = open('testSet.txt')\n",
    "    for line in f.readlines():\n",
    "        str = line.strip().split()\n",
    "        data_set.append([1.0, float(str[0]), float(str[1])])\n",
    "        label.append(int(str[2]))\n",
    "    return data_set, label\n",
    "data_set, label = read_file()\n",
    "print label[:7]"
   ]
  },
  {
   "cell_type": "code",
   "execution_count": 134,
   "metadata": {},
   "outputs": [
    {
     "name": "stdout",
     "output_type": "stream",
     "text": [
      "0.5\n"
     ]
    }
   ],
   "source": [
    "import numpy as np\n",
    "def sigmoid(x):\n",
    "    return 1.0 / (1 + exp(-x))\n",
    "print sigmoid(0)"
   ]
  },
  {
   "cell_type": "code",
   "execution_count": 140,
   "metadata": {
    "scrolled": true
   },
   "outputs": [
    {
     "name": "stdout",
     "output_type": "stream",
     "text": [
      "[[ 3.75172615]\n",
      " [ 0.44759861]\n",
      " [-0.5700514 ]]\n"
     ]
    }
   ],
   "source": [
    "def train_parameter(data_set, label):\n",
    "    train_data = mat(data_set)\n",
    "    train_label = mat(label).transpose()\n",
    "    sample_num ,feature_num = shape(train_data)\n",
    "    parameters = ones((feature_num,1))\n",
    "  \n",
    "    learning_rate = 0.0001\n",
    "    train_cycle_num = 4000\n",
    "   \n",
    "    for i in range(train_cycle_num):\n",
    "        predict = sigmoid(train_data * parameters)\n",
    "        error = train_label - predict\n",
    "        parameters = parameters + learning_rate * train_data.transpose() * error\n",
    "    return parameters\n",
    "parameters = train_parameter(data_set, label)\n",
    "print parameters\n"
   ]
  },
  {
   "cell_type": "code",
   "execution_count": 141,
   "metadata": {},
   "outputs": [
    {
     "data": {
      "image/png": "[encoded data removed]",
      "text/plain": [
       "<matplotlib.figure.Figure at 0x98b3ef0>"
      ]
     },
     "metadata": {},
     "output_type": "display_data"
    }
   ],
   "source": [
    "import matplotlib.pyplot as plt\n",
    "def plot_logregress_line(parameters):\n",
    "    m_data_set = mat(data_set)\n",
    "    m_label = mat(label)\n",
    "    x1_coord = []\n",
    "    y1_coord = []\n",
    "    x2_coord = []\n",
    "    y2_coord = []\n",
    "    sample_num = m_data_set.shape[0]\n",
    "    for i in range(sample_num):\n",
    "        if m_label[0,i] == 1:\n",
    "            x1_coord.append(m_data_set[i,1])\n",
    "            y1_coord.append(m_data_set[i,2])\n",
    "        else:\n",
    "            x2_coord.append(m_data_set[i,1])\n",
    "            y2_coord.append(m_data_set[i,2])\n",
    "    fig = plt.figure()\n",
    "    axes = fig.add_subplot(111)\n",
    "    axes.scatter(x1_coord, y1_coord,s=30,c='red',marker='s')\n",
    "    axes.scatter(x2_coord, y2_coord, s=30,c='green')\n",
    "    \n",
    "    x = arange(-3.0,3.0,0.1)\n",
    "    y = (-parameters[0] - parameters[1] *x) / parameters[2]\n",
    "    \n",
    "    axes.plot(x, y.transpose())\n",
    "    plt.xlabel('x1')\n",
    "    plt.ylabel('y1')\n",
    "    plt.show()\n",
    "    \n",
    "    \n",
    "plot_logregress_line(parameters)\n",
    "    \n",
    "    \n",
    "    \n",
    "    "
   ]
  },
  {
   "cell_type": "code",
   "execution_count": 142,
   "metadata": {},
   "outputs": [
    {
     "name": "stdout",
     "output_type": "stream",
     "text": [
      "4.266907\n",
      "[ 1.       -1.395634  4.662541]\n"
     ]
    }
   ],
   "source": [
    "print sum (np.multiply(mat(data_set)[1] , mat([1,1,1])))\n",
    "print array(data_set)[1]"
   ]
  },
  {
   "cell_type": "code",
   "execution_count": 111,
   "metadata": {},
   "outputs": [
    {
     "name": "stdout",
     "output_type": "stream",
     "text": [
      "m_data_set shape is  ()\n",
      "(3L,)\n"
     ]
    }
   ],
   "source": [
    "def train_stoc_parameter(data_set, label):\n",
    "    m_data_set = array(data_set)\n",
    "    sample_num, feature_num = m_data_set.shape\n",
    "    stoc_parameters = ones(feature_num)\n",
    "    \n",
    "   # print 'stoc_parameters\\'s shape is : ', stoc_parameters.shape\n",
    "    print 'm_data_set shape is ', m_data_set[1][0].shape\n",
    "    \n",
    "    learning_rate = 0.01\n",
    "    for i in range(sample_num): \n",
    "        predict = sigmoid(sum(np.multiply(m_data_set[i] , stoc_parameters)))\n",
    "        error = label[i] - predict\n",
    "        stoc_parameters = stoc_parameters + learning_rate * m_data_set[i] * error\n",
    "        \n",
    "    return stoc_parameters\n",
    "\n",
    "stoc_parameters = train_stoc_parameter(data_set, label)\n",
    "print stoc_parameters.shape"
   ]
  },
  {
   "cell_type": "code",
   "execution_count": 143,
   "metadata": {},
   "outputs": [
    {
     "data": {
      "image/png": "[encoded data removed]",
      "text/plain": [
       "<matplotlib.figure.Figure at 0x9cd7eb8>"
      ]
     },
     "metadata": {},
     "output_type": "display_data"
    }
   ],
   "source": [
    "plot_logregress_line(stoc_parameters)"
   ]
  },
  {
   "cell_type": "code",
   "execution_count": 144,
   "metadata": {},
   "outputs": [
    {
     "name": "stdout",
     "output_type": "stream",
     "text": [
      "[ 0.05238781  0.07846205 -0.20112505]\n"
     ]
    }
   ],
   "source": [
    "def train_stoc_parameters_pro(data_set, label,iter_num):\n",
    "    m_data_set = array(data_set)\n",
    "    sample_num, feature_num = m_data_set.shape\n",
    "    stoc_parameters_pro = ones(feature_num)\n",
    "    for ite in range(iter_num):\n",
    "        sample_index = range(sample_num)\n",
    "        for row in range(sample_num):\n",
    "            learning_rato = 4 / (1.0 + ite + row) + 0.01\n",
    "            random_index = int (random.uniform(0, len(sample_index)))\n",
    "            predict = sigmoid(sum(np.multiply(m_data_set[random_index], stoc_parameters_pro)))\n",
    "            error = label[row] - predict\n",
    "            stoc_parameters_pro = stoc_parameters_pro + learning_rato * m_data_set[random_index] * error\n",
    "            del(sample_index[random_index])\n",
    "    \n",
    "    return stoc_parameters_pro\n",
    "stoc_parameters_pro = train_stoc_parameters_pro(data_set,label, 150)\n",
    "print stoc_parameters_pro"
   ]
  },
  {
   "cell_type": "code",
   "execution_count": 129,
   "metadata": {},
   "outputs": [
    {
     "data": {
      "image/png": "[encoded data removed]",
      "text/plain": [
       "<matplotlib.figure.Figure at 0x99495f8>"
      ]
     },
     "metadata": {},
     "output_type": "display_data"
    }
   ],
   "source": [
    "plot_logregress_line(stoc_parameters_pro)"
   ]
  },
  {
   "cell_type": "code",
   "execution_count": 145,
   "metadata": {
    "collapsed": true
   },
   "outputs": [],
   "source": [
    "def decision(x, parameters):\n",
    "    prob = sigmoid(sum(np.multiply(x, parameters)))\n",
    "    if prob > 0.5:\n",
    "        return 1\n",
    "    else:\n",
    "        return 0"
   ]
  },
  {
   "cell_type": "code",
   "execution_count": 158,
   "metadata": {
    "scrolled": true
   },
   "outputs": [
    {
     "name": "stdout",
     "output_type": "stream",
     "text": [
      "len of test_label 67\n",
      "index 0 predict error \n",
      "index 1 predict error \n",
      "index 2 predict error \n",
      "index 4 predict error \n",
      "index 5 predict error \n",
      "index 6 predict error \n",
      "index 7 predict error \n",
      "index 8 predict error \n",
      "index 10 predict error \n",
      "index 13 predict error \n",
      "index 14 predict error \n",
      "index 15 predict error \n",
      "index 16 predict error \n",
      "index 20 predict error \n",
      "index 21 predict error \n",
      "index 24 predict error \n",
      "index 25 predict error \n",
      "index 26 predict error \n",
      "index 27 predict error \n",
      "index 28 predict error \n",
      "index 29 predict error \n",
      "index 30 predict error \n",
      "index 31 predict error \n",
      "index 32 predict error \n",
      "index 34 predict error \n",
      "index 36 predict error \n",
      "index 37 predict error \n",
      "index 38 predict error \n",
      "index 39 predict error \n",
      "index 40 predict error \n",
      "index 41 predict error \n",
      "index 42 predict error \n",
      "index 44 predict error \n",
      "index 45 predict error \n",
      "index 46 predict error \n",
      "index 47 predict error \n",
      "index 48 predict error \n",
      "index 53 predict error \n",
      "index 54 predict error \n",
      "index 55 predict error \n",
      "index 56 predict error \n",
      "index 58 predict error \n",
      "index 59 predict error \n",
      "index 60 predict error \n",
      "index 62 predict error \n",
      "index 63 predict error \n",
      "index 65 predict error \n",
      "error rato is :  0.716417910448\n"
     ]
    },
    {
     "name": "stderr",
     "output_type": "stream",
     "text": [
      "D:\\Worksoft\\anaconda\\lib\\site-packages\\ipykernel_launcher.py:3: RuntimeWarning: overflow encountered in exp\n",
      "  This is separate from the ipykernel package so we can avoid doing imports until\n"
     ]
    }
   ],
   "source": [
    "def predict():\n",
    "    train_file = open('horseColicTraining.txt')\n",
    "    test_file = open('horseColicTest.txt')\n",
    "    train_data = []; train_label = []\n",
    "    test_data = []; test_label = []\n",
    "    \n",
    "    for lines in train_file.readlines():\n",
    "        lines_str = lines.strip().split()\n",
    "        str_len = len(lines_str)\n",
    "        temp_str1 = []\n",
    "        for i in range(str_len - 1):\n",
    "            temp_str1.append(float(lines_str[i]))\n",
    "        train_data.append(temp_str1)\n",
    "        train_label.append(float(lines_str[ str_len - 1]))\n",
    "    #print array(train_data).shape\n",
    "    #print array(train_label).shape\n",
    "    parameters = train_parameter(train_data, train_label)\n",
    "                       \n",
    "    for lines in test_file.readlines():\n",
    "        lines_str = lines.strip().split()\n",
    "        str_len = len(lines_str)\n",
    "        temp_str2 = []\n",
    "        for i in range(len(lines_str)-1):\n",
    "            temp_str2.append(float(lines_str[i]))\n",
    "        test_data.append(temp_str2)\n",
    "        test_label.append(float(lines_str[str_len - 1]))\n",
    "    error_count = 1.0\n",
    "    print 'len of test_label', len(test_label)\n",
    "    for i in range(len(test_label) -1):\n",
    "        result = decision(test_data[i],parameters)\n",
    "        if result != test_label[i]:\n",
    "            error_count += 1.0\n",
    "            print 'index %d predict error '%i\n",
    "    print 'error rato is : ', error_count/ float(len(test_label))\n",
    "    \n",
    "predict()"
   ]
  },
  {
   "cell_type": "code",
   "execution_count": null,
   "metadata": {
    "collapsed": true
   },
   "outputs": [],
   "source": []
  }
 ],
 "metadata": {
  "kernelspec": {
   "display_name": "Python 2",
   "language": "python",
   "name": "python2"
  },
  "language_info": {
   "codemirror_mode": {
    "name": "ipython",
    "version": 2
   },
   "file_extension": ".py",
   "mimetype": "text/x-python",
   "name": "python",
   "nbconvert_exporter": "python",
   "pygments_lexer": "ipython2",
   "version": "2.7.14"
  }
 },
 "nbformat": 4,
 "nbformat_minor": 2
}
