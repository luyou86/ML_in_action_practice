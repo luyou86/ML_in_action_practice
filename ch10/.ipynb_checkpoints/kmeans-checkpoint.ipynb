{
 "cells": [
  {
   "cell_type": "code",
   "execution_count": 2,
   "metadata": {},
   "outputs": [
    {
     "name": "stdout",
     "output_type": "stream",
     "text": [
      "80\n"
     ]
    }
   ],
   "source": [
    "def read_data_from_file(filename):\n",
    "    f = open(filename)\n",
    "    data_set = []\n",
    "    for line in f.readlines():\n",
    "        tem_str = line.strip().split('\\t')\n",
    "        tem_list = []\n",
    "        for i in range(len(tem_str)):\n",
    "            tem_list.append(float(tem_str[i]))\n",
    "        data_set.append(tem_list)\n",
    "    return data_set\n",
    "\n",
    "data_set = read_data_from_file('testSet.txt')\n",
    "print len(data_set)\n",
    "\n"
   ]
  },
  {
   "cell_type": "code",
   "execution_count": 27,
   "metadata": {},
   "outputs": [
    {
     "name": "stdout",
     "output_type": "stream",
     "text": [
      "[[-5.37026062  3.0433954 ]\n",
      " [-5.06590601 -3.00962548]]\n"
     ]
    }
   ],
   "source": [
    "from numpy import *\n",
    "def compute_distance(vector1,vector2):\n",
    "    return sum(power(vector1 - vector2 , 2))\n",
    "\n",
    "\n",
    "def init_center(data_set_mat, k):\n",
    "    row_num, col_num = data_set_mat.shape\n",
    "    \n",
    "    center_point = mat(ones((k, col_num)))\n",
    "    \n",
    "    for i in range(col_num):\n",
    "        min_value = min(data_set_mat[:,i])\n",
    "        \n",
    "        max_value = max(data_set_mat[:,i])\n",
    "        range_v = float(max_value - min_value)\n",
    "        center_point[:,i] = min_value + range_v * random.rand(k,1)\n",
    "    return center_point\n",
    "    \n",
    "init_center_point = init_center(mat(data_set), 2)\n",
    "print init_center_point"
   ]
  },
  {
   "cell_type": "code",
   "execution_count": 15,
   "metadata": {},
   "outputs": [
    {
     "name": "stdout",
     "output_type": "stream",
     "text": [
      "89.6928565702\n"
     ]
    }
   ],
   "source": [
    "print compute_distance(mat(data_set)[1], mat(data_set)[2])"
   ]
  },
  {
   "cell_type": "code",
   "execution_count": null,
   "metadata": {},
   "outputs": [],
   "source": [
    "def kmeans(data_set_mat, k, distance_compute=compute_distance, center_compute=init_center):\n",
    "    row_num, col_num = data_set_mat.shape\n",
    "    center_point = center_compute(data_set_mat, k)\n",
    "    record = mat(zeros((row_num, 2)))\n",
    "    is_changed = True\n",
    "    while is_changed:\n",
    "        is_changed = False\n",
    "        #updata every point label in record\n",
    "        for row in range(row_num):\n",
    "            min_dis = inf; min_index = -1\n",
    "            for i in range(k):\n",
    "                distance = distance_compute(data_set_mat[row,:], center_point[i,:])\n",
    "                if distance < min_dis:\n",
    "                    min_dis = distance\n",
    "                    min_index = i\n",
    "                    is_changed = True\n",
    "                    #print 'min_index: ', min_index\n",
    "            record[row,:] = min_index, min_dis * min_dis\n",
    "        #updata label point\n",
    "        for m in range(k):\n",
    "            tem_list = data_set_mat[nonzero(record[:,0].A == m)[0]]\n",
    "            center_point[m,:] = mean(tem_list,axis=0)\n",
    "    return center_point, record\n",
    "test_set_center, test_set_record = kmeans(mat(data_set), 4)\n",
    "print test_set_record\n"
   ]
  },
  {
   "cell_type": "code",
   "execution_count": null,
   "metadata": {},
   "outputs": [],
   "source": [
    "a = mean(mat(data_set), axis =0).tolist()[0]\n",
    "print [a]"
   ]
  },
  {
   "cell_type": "code",
   "execution_count": null,
   "metadata": {
    "collapsed": true
   },
   "outputs": [],
   "source": [
    "def binary_kmead(data_set_mat, k,distance_compute= compute_distance):\n",
    "    row_num, col_num = data_set_mat.shape\n",
    "    record = mat(zeros(k,2))\n",
    "    feature_mean = mean(data_set_mat, axis=0).tolist()[0]\n",
    "    center_list = [feature_mean]\n",
    "    \n",
    "    for i in range(k):\n",
    "        record[i,1] = compute_distance(data_set_mat[i,:], mat(feature_mean)) ** 2\n",
    "    \n",
    "    \n",
    "    while(len(center_list) < k):\n",
    "        # find center point to split\n",
    "        min_error = inf; min_index = -1\n",
    "        for i in range(len(center_list)):\n",
    "            point_i_data = data_set_mat[nonzero(record[:,0].A == i)[0]] \n",
    "            center_point_i, record_i = init_center(point_i_data, 2)\n",
    "            splitted = sum(record_i[:,1])\n",
    "            without_split = sum(record_i[nonzero(record[:,0].A != i)][0])\n",
    "            if splitted + without_split < min_error:\n",
    "                min_error = splitted + without_split\n",
    "                min_index = i\n",
    "                new_center_point = center_point_i\n",
    "                new_record = record_i\n",
    "        # update label point\n",
    "        new_record[nonzero(new_record[:,0] ==1)[0]][0] = len(center_list)\n",
    "        new_record[nonzero(new_record[:,0] == 0)[0]][0] = min_index\n",
    "        #updata label number\n",
    "        center_list[min_error] = new_center_point[0,:]\n",
    "        center_list.append(new_center_point[1,:])\n",
    "        \n",
    "        #update point distance\n",
    "        record[nonzero(record[:,0].A == min_index)[0],1] = new_record\n",
    "    return mat(center_list), record\n",
    "\n",
    "\n",
    "        \n",
    "        \n",
    "        \n",
    "            \n",
    "        "
   ]
  }
 ],
 "metadata": {
  "kernelspec": {
   "display_name": "Python 2",
   "language": "python",
   "name": "python2"
  },
  "language_info": {
   "codemirror_mode": {
    "name": "ipython",
    "version": 2
   },
   "file_extension": ".py",
   "mimetype": "text/x-python",
   "name": "python",
   "nbconvert_exporter": "python",
   "pygments_lexer": "ipython2",
   "version": "2.7.14"
  }
 },
 "nbformat": 4,
 "nbformat_minor": 2
}
