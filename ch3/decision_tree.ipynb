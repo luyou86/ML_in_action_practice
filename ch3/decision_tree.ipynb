{
 "cells": [
  {
   "cell_type": "code",
   "execution_count": 4,
   "metadata": {},
   "outputs": [
    {
     "name": "stdout",
     "output_type": "stream",
     "text": [
      "0.970950594455\n"
     ]
    }
   ],
   "source": [
    "from math import log\n",
    "\n",
    "def computing_entropy(dataset):\n",
    "    number_of_row = len(dataset)\n",
    "    label_count = {}\n",
    "    for row in dataset:\n",
    "        label_content = row[-1]\n",
    "        if label_content not in label_count.keys():\n",
    "            label_count[label_content] = 0.0\n",
    "        label_count[label_content] += 1.0\n",
    "    ID3_entropy = 0.0\n",
    "    for key in label_count:\n",
    "        probability = float(label_count[key] / number_of_row)\n",
    "        ID3_entropy -= probability * log(probability, 2)\n",
    "    return ID3_entropy00\n",
    "dataset = [[1,1,'yes'],\n",
    "          [1,1,'yes'],\n",
    "          [1,0,'no'],\n",
    "          [0,1,'no'],\n",
    "          [0,1,'no']]\n",
    "print computing_entropy(dataset)"
   ]
  },
  {
   "cell_type": "code",
   "execution_count": 7,
   "metadata": {},
   "outputs": [
    {
     "name": "stdout",
     "output_type": "stream",
     "text": [
      "[[1, 'yes'], [1, 'yes'], [0, 'no'], [0, 'no']]\n"
     ]
    }
   ],
   "source": [
    "def split_dataset(dataset,axis,value):\n",
    "    result_dataset = []\n",
    "    for row in dataset:\n",
    "        if row[axis] == value:\n",
    "            result_voctor = row[0:axis]\n",
    "            result_voctor.extend(row[axis+1:])\n",
    "            r+esult_dataset.append(result_voctor)\n",
    "    \n",
    "    return result_dataset\n",
    "print split_dataset(dataset,1,1)"
   ]
  },
  {
   "cell_type": "code",
   "execution_count": 9,
   "metadata": {
    "scrolled": true
   },
   "outputs": [
    {
     "data": {
      "text/plain": [
       "0"
      ]
     },
     "execution_count": 9,
     "metadata": {},
     "output_type": "execute_result"
    }
   ],
   "source": [
    "def choose_best_feature_to_split(dataset):\n",
    "    choosened_feature = 0\n",
    "    number_of_features = len(dataset[0]) - 1\n",
    "    entropy_of_dataset = computing_entropy(dataset)\n",
    "    best_Gain = 0.0\n",
    "    \n",
    "    for column in range(number_of_features):\n",
    "        column_feature_value = [sample[column] for sample in dataset ]\n",
    "        column_feature_value_set = set(column_feature_value)\n",
    "        splitted_entropy = 0.0\n",
    "        for value in column_feature_value_set:\n",
    "            splitted_dataset = split_dataset(dataset,column, value)\n",
    "            probability = len(splitted_dataset)/ float(len(dataset))\n",
    "            splitted_entropy += probability * computing_entropy(splitted_dataset)\n",
    "        infoGain = entropy_of_dataset - splitted_entropy\n",
    "        if (infoGain > best_Gain):\n",
    "            best_Gain = infoGain\n",
    "            choosened_feature = column\n",
    "    return choosened_feature\n",
    "\n",
    "choose_best_feature_to_split(dataset)       "
   ]
  },
  {
   "cell_type": "code",
   "execution_count": 13,
   "metadata": {},
   "outputs": [
    {
     "name": "stdout",
     "output_type": "stream",
     "text": [
      "3\n"
     ]
    }
   ],
   "source": [
    "import operator\n",
    "def choose_most_label(label_list):\n",
    "    label_count = {}\n",
    "    for item in label_list:\n",
    "        if item not in label_count.keys():\n",
    "            label_count[item] = 0.0\n",
    "        label_count[item] += 1.0\n",
    "    sorted_label_count = sorted(label_count.iteritems(),\\\n",
    "                             key=operator.itemgetter(1),reverse=True)\n",
    "    return sorted_label_count[0][0]\n",
    "\n",
    "#label_list = [1,2,2,2,2,3,3,3,3,2,2,2,2,3,3,3,3,3,3,3,3,3,3,3]\n",
    "#print choose_most_label(label_list)"
   ]
  },
  {
   "cell_type": "code",
   "execution_count": 46,
   "metadata": {},
   "outputs": [
    {
     "name": "stdout",
     "output_type": "stream",
     "text": [
      "{'no surfacing': {0: 'no', 1: {'flippers': {0: 'no', 1: 'yes'}}}}\n"
     ]
    }
   ],
   "source": [
    "def create_decision_tree(dataset, feature_name):\n",
    "    class_list = [entry[-1] for entry in dataset]\n",
    "    if class_list.count(class_list[0]) == len(class_list):\n",
    "        return class_list[0]\n",
    "    if len(dataset[0]) == 1:\n",
    "        return choose_most_label(class_list)\n",
    "    #decision_tree = {root : {}}\n",
    "    choosen_feature_index = choose_best_feature_to_split(dataset)\n",
    "    choosen_feature_name = feature_name[choosen_feature_index]\n",
    "    decision_tree = {choosen_feature_name:{}}\n",
    "    # del operate, need more cautions\n",
    "    del(feature_name[choosen_feature_index])\n",
    "    feature_value = [entry[choosen_feature_index] for entry in dataset]\n",
    "    feature_value_set = set(feature_value)\n",
    "    for value in feature_value_set:\n",
    "        # need to understand whether to change paramters, this is much bug in function recurion call\n",
    "        splitted_dataset = split_dataset(dataset, choosen_feature_index, value)\n",
    "        feature_name_temp = feature_name[:]\n",
    "        decision_tree[choosen_feature_name][value] = create_decision_tree(splitted_dataset,feature_name_temp)\n",
    "        \n",
    "    return decision_tree\n",
    "\n",
    "feature_name = [\"no surfacing\",'flippers']\n",
    "#trees = create_decision_tree(dataset, feature_name)\n",
    "#print trees\n"
   ]
  },
  {
   "cell_type": "code",
   "execution_count": 24,
   "metadata": {},
   "outputs": [
    {
     "name": "stdout",
     "output_type": "stream",
     "text": [
      "['flippers']\n"
     ]
    }
   ],
   "source": [
    "print feature_name"
   ]
  },
  {
   "cell_type": "code",
   "execution_count": 29,
   "metadata": {},
   "outputs": [
    {
     "data": {
      "image/png": "[encoded data removed]",
      "text/plain": [
       "<matplotlib.figure.Figure at 0x7db11d0>"
      ]
     },
     "metadata": {},
     "output_type": "display_data"
    }
   ],
   "source": [
    "import matplotlib.pyplot as plt\n",
    "\n",
    "#use map to discribe the attribute of node\n",
    "decision_node = dict(boxstyle=\"sawtooth\", fc=\"0.8\")\n",
    "leaf_node = dict(boxstyle=\"round4\", fc=\"0.8\")\n",
    "arrow_args = dict(arrowstyle=\"<-\")\n",
    "\n",
    "def plot_node(node_text, center_point, parent_point, note_type):\n",
    "    create_plot.ax1.annotate(node_text, xy=parent_point,xycoords=\"axes fraction\", xytext=center_point,\\\n",
    "                            textcoords=\"axes fraction\",va=\"center\", ha=\"center\", bbox=note_type, \\\n",
    "                            arrowprops=arrow_args)\n",
    "    \n",
    "#def create_plot():\n",
    "    #fig = plt.figure()\n",
    "    #fig.clf()\n",
    "    #create_plot.ax1 = plt.subplot(111)\n",
    "    #plot_node('decision node',(0.5, 0.1),(0.1, 0.5), decision_node)\n",
    "    #plot_node('leaf_node',(0.8, 0.3),(0.3, 0.8), leaf_node)\n",
    "    #plt.show()\n",
    "#create_plot()"
   ]
  },
  {
   "cell_type": "code",
   "execution_count": 47,
   "metadata": {},
   "outputs": [],
   "source": [
    "def get_number_of_leaf_node(tree):\n",
    "    \n",
    "    num = 0\n",
    "    first_key = tree.keys()[0]\n",
    "    first_key_items = tree[first_key]\n",
    "    for item in first_key_items.keys():\n",
    "        if type(first_key_items[item]).__name__ == 'dict':\n",
    "            num += get_number_of_leaf_node(first_key_items[item])\n",
    "        else:\n",
    "            num += 1\n",
    "    return num\n",
    "\n",
    "#decision_trees = create_decision_tree(dataset, feature_name)\n",
    "\n",
    "#decision_tree = {'no surfacing': {0: 'no', 1: {'flippers': {0: 'no', 1: 'yes'}}}}\n",
    "#get_number_of_leaf_node(trees)"
   ]
  },
  {
   "cell_type": "code",
   "execution_count": 50,
   "metadata": {},
   "outputs": [
    {
     "data": {
      "text/plain": [
       "2"
      ]
     },
     "execution_count": 50,
     "metadata": {},
     "output_type": "execute_result"
    }
   ],
   "source": [
    "def get_deep_number_of_tree(tree):\n",
    "    deep_num = 1\n",
    "    max_deep_num = 1\n",
    "    first_key = tree.keys()[0]\n",
    "    first_key_items = tree[first_key]\n",
    "    for item in first_key_items.keys():\n",
    "        if type(first_key_items[item]).__name__ == 'dict':\n",
    "            deep_num = 1 + get_deep_number_of_tree(first_key_items[item])\n",
    "            if deep_num > max_deep_num:\n",
    "                max_deep_num = deep_num\n",
    "    return max_deep_num\n",
    "\n",
    "#decision_tree = {'no surfacing': {0: 'no', 1: {'flippers': {0: 'no', 1: 'yes'}}}}\n",
    "#get_deep_number_of_tree(decision_tree)\n"
   ]
  },
  {
   "cell_type": "code",
   "execution_count": 54,
   "metadata": {},
   "outputs": [],
   "source": [
    "'''\n",
    "def plot_text(child_point, parent_point, content_of_arrow):\n",
    "    x_of_text_content = (parent_point[0] - child_point[0]) / 2 + child_point[0]\n",
    "    y_of_text_content = (parent_point[1] - child_point[1]) / 2 + child_point[1]\n",
    "    create_plot.ax1.text(x_of_text_content,y_of_text_content, content_of_arrow)\n",
    "'''"
   ]
  },
  {
   "cell_type": "code",
   "execution_count": 55,
   "metadata": {
    "collapsed": true
   },
   "outputs": [],
   "source": [
    "'''\n",
    "def plot_tree(current_tree, parent_point,node_text):\n",
    "    number_of_leafs = get_number_of_leaf_node(current_tree)\n",
    "    number_of_depth = get_deep_number_of_tree(current_tree)\n",
    "    first_string = current_tree.keys()[0]\n",
    "    center_point = (plot_tree.xoff + (1.0 + float(number_of_leafs)) /2.0/plot_tree.totalW,\\\n",
    "                   plot_tree.yoff)\n",
    "    plot_text(center_point,parent_point, node_text)\n",
    "    plot_node(first_string,center_point, parent_point, decision_node)\n",
    "    second_dict = current_tree[first_string]\n",
    "    plot_tree.yoff = plot_tree.yoff  - 1.0 / plot_tree.totalD\n",
    "    \n",
    "    for key in second_dict.keys():\n",
    "        if type(second_dict[key]).__name__ == 'dict':\n",
    "            plot_tree(second_dict[key],center_point,str(key))\n",
    "        else:\n",
    "            plot_tree.xoff = plot_tree.xoff + 1.0 / plot_tree.totalW\n",
    "            plot_node(second_dict[key],(plot_tree.xoff, plot_tree.yoff),center_point, leaf_node)\n",
    "            plot_text(plot.xoff, plot_tree.yoff, center_point,str(key))\n",
    "    plot_tree.yoff = plot_tree.yoff + 1.0 / plot_tree.totalD\n",
    "    \n",
    "'''"
   ]
  },
  {
   "cell_type": "code",
   "execution_count": 62,
   "metadata": {
    "collapsed": true
   },
   "outputs": [],
   "source": [
    "'''\n",
    "def create_plot(tree):\n",
    "    fig = plt.figure(1, facecolor='white')\n",
    "    fig.clf()\n",
    "    axprops = dict(xticks=[],yticks=[])\n",
    "    create_plot.ax1 = plt.subplot(111)\n",
    "    plot_tree.total_width = float(get_number_of_leaf_node(tree))\n",
    "    plot_tree.total_deep = float(get_deep_number_of_tree(tree))\n",
    "    plot_tree.xoff = -0.5/plot_tree.total_width\n",
    "    plot_tree.yoff = 1.0\n",
    "    plot_tree(tree, (0.5, 1.0),'')\n",
    "    plt.show()\n",
    "'''"
   ]
  },
  {
   "cell_type": "code",
   "execution_count": 65,
   "metadata": {},
   "outputs": [
    {
     "data": {
      "text/plain": [
       "\"\\ndecision_tree = {'no surfacing': {0: 'no', 1: {'flippers': {0: 'no', 1: 'yes'}}}}\\ncreate_plot(decision_tree)\\n\""
      ]
     },
     "execution_count": 65,
     "metadata": {},
     "output_type": "execute_result"
    }
   ],
   "source": [
    "'''\n",
    "decision_tree = {'no surfacing': {0: 'no', 1: {'flippers': {0: 'no', 1: 'yes'}}}}\n",
    "create_plot(decision_tree)\n",
    "'''"
   ]
  },
  {
   "cell_type": "code",
   "execution_count": 87,
   "metadata": {},
   "outputs": [
    {
     "name": "stdout",
     "output_type": "stream",
     "text": [
      "key :    0  test_data[root_name_index] ==== 1\n",
      "key :    1  test_data[root_name_index] ==== 1\n",
      "key :    0  test_data[root_name_index] ==== 1\n",
      "key :    1  test_data[root_name_index] ==== 1\n",
      "yes\n"
     ]
    }
   ],
   "source": [
    "def classify0(trained_tree, feature_label, test_data):\n",
    "    root_name = trained_tree.keys()[0]\n",
    "    root_name_index = feature_label.index(root_name)\n",
    "    root_items = trained_tree[root_name]\n",
    "    for key in root_items.keys():\n",
    "        print 'key :   ', key, ' test_data[root_name_index] ====', test_data[root_name_index]\n",
    "        if key == test_data[root_name_index]:\n",
    "            if type(root_items[key]).__name__ == 'dict':\n",
    "                result_class = classify0(root_items[key], feature_label, test_data)\n",
    "            else:\n",
    "                result_class = root_items[key]\n",
    "    return result_class\n",
    "#print decision_tree\n",
    "feature_label = ['no surfacing','flippers']\n",
    "print classify0(decision_tree, feature_label, [1,1])"
   ]
  },
  {
   "cell_type": "code",
   "execution_count": 88,
   "metadata": {
    "collapsed": true
   },
   "outputs": [],
   "source": [
    "import pickle\n",
    "def store_tree(decision_tree,filename):\n",
    "    f = open(filename,'w')\n",
    "    pickle.dump(decision_tree,f)\n",
    "    f.close()\n",
    "\n",
    "def get_tree_from_file(filename):\n",
    "    f = open(filename,'r')\n",
    "    return pickle.load(f)\n",
    "\n",
    "store_tree(decision_tree,'decision_tree.txt')\n",
    "    \n",
    "    "
   ]
  },
  {
   "cell_type": "code",
   "execution_count": 89,
   "metadata": {},
   "outputs": [
    {
     "name": "stdout",
     "output_type": "stream",
     "text": [
      "{'no surfacing': {0: 'no', 1: {'flippers': {0: 'no', 1: 'yes'}}}}\n"
     ]
    }
   ],
   "source": [
    "print get_tree_from_file(\"decision_tree.txt\")"
   ]
  },
  {
   "cell_type": "code",
   "execution_count": 93,
   "metadata": {},
   "outputs": [
    {
     "name": "stdout",
     "output_type": "stream",
     "text": [
      "{'tearRate': {'reduced': 'no lenses', 'normal': {'astigmatic': {'yes': {'prescript': {'hyper': {'age': {'pre': 'no lenses', 'presbyopic': 'no lenses', 'young': 'hard'}}, 'myope': 'hard'}}, 'no': {'age': {'pre': 'soft', 'presbyopic': {'prescript': {'hyper': 'soft', 'myope': 'no lenses'}}, 'young': 'soft'}}}}}}\n"
     ]
    }
   ],
   "source": [
    "glass_file = open('lenses.txt')\n",
    "glass_data = [entity.strip().split('\\t') for entity in glass_file.readlines()]\n",
    "glass_label = ['age','prescript','astigmatic','tearRate']\n",
    "glass_decision_tree = create_decision_tree(glass_data, glass_label)\n",
    "print glass_decision_tree"
   ]
  },
  {
   "cell_type": "code",
   "execution_count": null,
   "metadata": {
    "collapsed": true
   },
   "outputs": [],
   "source": []
  }
 ],
 "metadata": {
  "kernelspec": {
   "display_name": "Python 2",
   "language": "python",
   "name": "python2"
  },
  "language_info": {
   "codemirror_mode": {
    "name": "ipython",
    "version": 2
   },
   "file_extension": ".py",
   "mimetype": "text/x-python",
   "name": "python",
   "nbconvert_exporter": "python",
   "pygments_lexer": "ipython2",
   "version": "2.7.14"
  }
 },
 "nbformat": 4,
 "nbformat_minor": 2
}
