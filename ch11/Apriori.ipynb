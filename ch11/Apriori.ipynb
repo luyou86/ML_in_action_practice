{
 "cells": [
  {
   "cell_type": "code",
   "execution_count": 3,
   "metadata": {},
   "outputs": [
    {
     "name": "stdout",
     "output_type": "stream",
     "text": [
      "[[1, 3, 4], [2, 3, 5], [1, 2, 3, 5], [2, 5]]\n",
      "[frozenset([1]), frozenset([2]), frozenset([3]), frozenset([4]), frozenset([5])]\n"
     ]
    }
   ],
   "source": [
    "data_set1 = [\n",
    "    [1,3,4],\n",
    "    [2,3,5],\n",
    "    [1,2,3,5],\n",
    "    [2,5]\n",
    "]\n",
    "print data_set1\n",
    "\n",
    "def create_label(data_set):\n",
    "    label = []\n",
    "    for row in data_set:\n",
    "        for item in row :\n",
    "            if not [item] in label:\n",
    "                label.append([item])\n",
    "    label.sort()\n",
    "    #frozenset is a kind of data structure, simalar to set\n",
    "    return map(frozenset, label)\n",
    "data_set1_label = create_label(data_set1)\n",
    "print data_set1_label"
   ]
  },
  {
   "cell_type": "code",
   "execution_count": 14,
   "metadata": {},
   "outputs": [
    {
     "name": "stdout",
     "output_type": "stream",
     "text": [
      "result_items:  {frozenset([4]): 1, frozenset([5]): 3, frozenset([2]): 3, frozenset([3]): 3, frozenset([1]): 2}\n",
      "freqency: 0.25\n",
      "freqency: 0.75\n",
      "freqency: 0.75\n",
      "freqency: 0.75\n",
      "freqency: 0.5\n",
      "{frozenset([5]): 0.75, frozenset([2]): 0.75, frozenset([3]): 0.75, frozenset([1]): 0.5}\n"
     ]
    }
   ],
   "source": [
    "def produce_item_set(data_set, label, support):\n",
    "    result_items = {}\n",
    "    for i in label:\n",
    "        for item in data_set:\n",
    "            if i.issubset(item):\n",
    "                if not result_items.has_key(i): \n",
    "                    result_items[i] = 1\n",
    "                else:\n",
    "                    result_items[i] +=1\n",
    "    print \"result_items: \", result_items\n",
    "    items_num = len(data_set)\n",
    "    result_list = []\n",
    "    items_freq = []\n",
    "    support_data = {} /\n",
    "    for key in result_items:\n",
    "        freq =   result_items[key] / float(items_num)\n",
    "        print 'freqency:',freq\n",
    "        if freq >= support:\n",
    "            result_list.append(key)\n",
    "            support_data[key] = freq\n",
    "    return result_list, support_data\n",
    "dataset1_res, support_data1 = produce_item_set(data_set1, data_set1_label, 0.5)\n",
    "print support_data1"
   ]
  },
  {
   "cell_type": "code",
   "execution_count": 18,
   "metadata": {},
   "outputs": [
    {
     "name": "stdout",
     "output_type": "stream",
     "text": [
      "[1, 2]\n"
     ]
    }
   ],
   "source": [
    "print list(frozenset([1,2]))"
   ]
  },
  {
   "cell_type": "code",
   "execution_count": null,
   "metadata": {
    "collapsed": true
   },
   "outputs": [],
   "source": [
    "def generate_likely_items():\n",
    "    \n",
    "    \n",
    "    \n",
    "    \n",
    "\n",
    "def apriori(data_set, support = 0.5):\n",
    "    "
   ]
  }
 ],
 "metadata": {
  "kernelspec": {
   "display_name": "Python 2",
   "language": "python",
   "name": "python2"
  },
  "language_info": {
   "codemirror_mode": {
    "name": "ipython",
    "version": 2
   },
   "file_extension": ".py",
   "mimetype": "text/x-python",
   "name": "python",
   "nbconvert_exporter": "python",
   "pygments_lexer": "ipython2",
   "version": "2.7.14"
  }
 },
 "nbformat": 4,
 "nbformat_minor": 2
}
